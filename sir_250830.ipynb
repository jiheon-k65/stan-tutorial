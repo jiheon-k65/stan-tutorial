{
 "cells": [
  {
   "cell_type": "markdown",
   "id": "7e0d66dc",
   "metadata": {},
   "source": [
    "# Part 1: Markovian epidemic model"
   ]
  },
  {
   "cell_type": "markdown",
   "id": "f5251456",
   "metadata": {},
   "source": [
    "#### Differential equations\n",
    "$\\frac{dS}{dt} = -\\beta \\frac{I}{N} S$<br/>\n",
    "$\\frac{dI}{dt} = \\beta \\frac{I}{N} S - \\gamma I$<br/>\n",
    "$\\frac{dR}{dt} = \\gamma I$, where<br/>\n",
    "> $\\beta$: constant rate of infection i.e. force of infection <br/>\n",
    "> $\\gamma$: constant rate of recovery <br/>\n",
    "> Initial conditions: S(0) = N - 1, I(0) = 1, R(0) = 0"
   ]
  },
  {
   "cell_type": "markdown",
   "id": "a04a1c02",
   "metadata": {
    "vscode": {
     "languageId": "plaintext"
    }
   },
   "source": [
    "#### Bayes theorem<br/>\n",
    "$p(\\theta|y) \\propto p(y|\\theta)p(\\theta)$, where\n",
    "> $\\theta$ is the parameter & $y$ is the data\n",
    "\n",
    "#### Likelihood or sampling distribution\n",
    "$I_{obs}(t) \\sim NegBin(I_{ODE}(t), \\phi)$, where\n",
    "> $I_{obs}(t)$: no. of infected students reported i.e. observed data <br/>\n",
    "> $I_{ODE}(t)$: no. of infected students solved by ODE <br/>\n",
    "> $\\phi$: dispersion parameter\n",
    "\n",
    "#### Prior distributions\n",
    "Since $\\theta = (\\beta, \\gamma, \\phi)$, <br/>\n",
    "Priors: $p(\\beta), p(\\gamma), p(\\phi)$ <br/>\n",
    "\n",
    "#### Posterior distributions\n",
    "Joint posterior: $p(\\beta, \\gamma, \\phi|y)$ <br/>\n",
    "Marginal posteriors: <br/>\n",
    "$p(\\beta|y) = \\int \\int p(\\beta, \\gamma, \\phi|y) d\\gamma, d\\phi$ <br/>\n",
    "$p(\\gamma|y) = \\int \\int p(\\beta, \\gamma, \\phi|y) d\\beta d\\phi$ <br/>\n",
    "$p(\\phi|y) = \\int \\int p(\\beta, \\gamma, \\phi|y) d\\beta d\\gamma$ <br/>\n",
    "\n",
    "#### Predicted or derived quantities\n",
    "Posterior distribution of predictions: <br/>\n",
    "$p(y_{pred}|y) = \\int p(y_{pred}|\\beta, \\gamma, \\phi)p(\\beta, \\gamma, \\phi|y) d(\\beta, \\gamma, \\phi)$ <br/>\n",
    "$p(R_0|y) = \\int p(R_0|\\beta, \\gamma, \\phi)p(\\beta, \\gamma, \\phi|y) d(\\beta, \\gamma, \\phi)$"
   ]
  },
  {
   "cell_type": "code",
   "execution_count": 1,
   "id": "c9d8ea9b",
   "metadata": {
    "vscode": {
     "languageId": "r"
    }
   },
   "outputs": [
    {
     "name": "stderr",
     "output_type": "stream",
     "text": [
      "Installing package into 'C:/Users/Jiheo/AppData/Local/R/win-library/4.5'\n",
      "(as 'lib' is unspecified)\n",
      "\n"
     ]
    },
    {
     "name": "stdout",
     "output_type": "stream",
     "text": [
      "package 'outbreaks' successfully unpacked and MD5 sums checked\n",
      "\n",
      "The downloaded binary packages are in\n",
      "\tC:\\Users\\Jiheo\\AppData\\Local\\Temp\\RtmpEFEkUK\\downloaded_packages\n"
     ]
    }
   ],
   "source": [
    "# To install necessary package\n",
    "install.packages(\"outbreaks\")"
   ]
  },
  {
   "cell_type": "code",
   "execution_count": 2,
   "id": "2f4ed8d9",
   "metadata": {
    "vscode": {
     "languageId": "r"
    }
   },
   "outputs": [
    {
     "name": "stderr",
     "output_type": "stream",
     "text": [
      "This is cmdstanr version 0.9.0\n",
      "\n",
      "- CmdStanR documentation and vignettes: mc-stan.org/cmdstanr\n",
      "\n",
      "- CmdStan path: C:/Users/Jiheo/.cmdstan/cmdstan-2.36.0\n",
      "\n",
      "- CmdStan version: 2.36.0\n",
      "\n",
      "\n",
      "A newer version of CmdStan is available. See ?install_cmdstan() to install it.\n",
      "To disable this check set option or environment variable cmdstanr_no_ver_check=TRUE.\n",
      "\n"
     ]
    }
   ],
   "source": [
    "# To load necessary packages\n",
    "library(outbreaks)\n",
    "library(cmdstanr)\n",
    "library(tidybayes)\n",
    "library(data.table)\n",
    "library(stringr)\n",
    "library(ggplot2)"
   ]
  },
  {
   "cell_type": "code",
   "execution_count": 3,
   "id": "e0d24b50",
   "metadata": {
    "vscode": {
     "languageId": "r"
    }
   },
   "outputs": [],
   "source": [
    "# To load functions\n",
    "source(\"sir_func.r\")"
   ]
  },
  {
   "cell_type": "code",
   "execution_count": 4,
   "id": "9e502f42",
   "metadata": {
    "vscode": {
     "languageId": "r"
    }
   },
   "outputs": [
    {
     "name": "stdout",
     "output_type": "stream",
     "text": [
      "        date in_bed convalescent\n",
      "1 1978-01-22      3            0\n",
      "2 1978-01-23      8            0\n",
      "3 1978-01-24     26            0\n",
      "4 1978-01-25     76            0\n",
      "5 1978-01-26    225            9\n",
      "6 1978-01-27    298           17\n"
     ]
    }
   ],
   "source": [
    "# To preview epidemic data\n",
    "print(head(influenza_england_1978_school))"
   ]
  },
  {
   "cell_type": "code",
   "execution_count": 5,
   "id": "f80f915f",
   "metadata": {
    "vscode": {
     "languageId": "r"
    }
   },
   "outputs": [
    {
     "data": {
      "image/png": "[encoded data removed]",
      "text/plain": [
       "plot without title"
      ]
     },
     "metadata": {
      "image/png": {
       "height": 420,
       "width": 420
      }
     },
     "output_type": "display_data"
    }
   ],
   "source": [
    "# To plot epidemic data\n",
    "ggplot(data = influenza_england_1978_school) +\n",
    "  geom_point(aes(x = date, y = in_bed)) +\n",
    "  labs(x = \"Date\", y = \"No. of students in bed\") +\n",
    "  theme_bw(base_size = 14)"
   ]
  },
  {
   "cell_type": "code",
   "execution_count": 6,
   "id": "ecee8a43",
   "metadata": {
    "vscode": {
     "languageId": "r"
    }
   },
   "outputs": [],
   "source": [
    "# To define input data\n",
    "N <- 763\n",
    "cases <- influenza_england_1978_school$in_bed\n",
    "n_days <- length(cases)\n",
    "t <- seq(from = 0, to = n_days, by = 1)\n",
    "t0 <- 0\n",
    "t <- t[-1] # To remove element 1\n",
    "\n",
    "# To define initial conditions\n",
    "s0 <- N - 1\n",
    "i0 <- 1\n",
    "r0 <- 0\n",
    "y0 <- c(S = s0, I = i0, R = r0)\n",
    "\n",
    "# To create a list of input data\n",
    "sir_data <- list(n_days = n_days, y0 = y0, t0 = t0,\n",
    "                 ts = t, N = N, cases = cases)"
   ]
  },
  {
   "cell_type": "code",
   "execution_count": 7,
   "id": "a47e2311",
   "metadata": {
    "vscode": {
     "languageId": "r"
    }
   },
   "outputs": [
    {
     "name": "stderr",
     "output_type": "stream",
     "text": [
      "Chain 1 Informational Message: The current Metropolis proposal is about to be rejected because of the following issue:\n",
      "\n",
      "Chain 1 Exception: neg_binomial_2_lpmf: Location parameter[10] is -8.42623e-08, but must be positive finite! (in 'C:/Users/Jiheo/AppData/Local/Temp/RtmpUxru5K/model-ab45e82500e.stan', line 51, column 4 to column 41)\n",
      "\n",
      "Chain 1 If this warning occurs sporadically, such as for highly constrained variable types like covariance matrices, then the sampler is fine,\n",
      "\n",
      "Chain 1 but if this warning occurs often then your model may be either severely ill-conditioned or misspecified.\n",
      "\n",
      "Chain 1 \n",
      "\n",
      "Chain 1 Informational Message: The current Metropolis proposal is about to be rejected because of the following issue:\n",
      "\n",
      "Chain 1 Exception: neg_binomial_2_lpmf: Location parameter[3] is -9.7961e-08, but must be positive finite! (in 'C:/Users/Jiheo/AppData/Local/Temp/RtmpUxru5K/model-ab45e82500e.stan', line 51, column 4 to column 41)\n",
      "\n",
      "Chain 1 If this warning occurs sporadically, such as for highly constrained variable types like covariance matrices, then the sampler is fine,\n",
      "\n",
      "Chain 1 but if this warning occurs often then your model may be either severely ill-conditioned or misspecified.\n",
      "\n",
      "Chain 1 \n",
      "\n",
      "Chain 1 Informational Message: The current Metropolis proposal is about to be rejected because of the following issue:\n",
      "\n",
      "Chain 1 Exception: neg_binomial_2_lpmf: Location parameter[1] is nan, but must be positive finite! (in 'C:/Users/Jiheo/AppData/Local/Temp/RtmpUxru5K/model-ab45e82500e.stan', line 51, column 4 to column 41)\n",
      "\n",
      "Chain 1 If this warning occurs sporadically, such as for highly constrained variable types like covariance matrices, then the sampler is fine,\n",
      "\n",
      "Chain 1 but if this warning occurs often then your model may be either severely ill-conditioned or misspecified.\n",
      "\n",
      "Chain 1 \n",
      "\n",
      "Chain 1 Informational Message: The current Metropolis proposal is about to be rejected because of the following issue:\n",
      "\n",
      "Chain 1 Exception: neg_binomial_2_lpmf: Location parameter[12] is -2.20553e-09, but must be positive finite! (in 'C:/Users/Jiheo/AppData/Local/Temp/RtmpUxru5K/model-ab45e82500e.stan', line 51, column 4 to column 41)\n",
      "\n",
      "Chain 1 If this warning occurs sporadically, such as for highly constrained variable types like covariance matrices, then the sampler is fine,\n",
      "\n",
      "Chain 1 but if this warning occurs often then your model may be either severely ill-conditioned or misspecified.\n",
      "\n",
      "Chain 1 \n",
      "\n",
      "Chain 2 Informational Message: The current Metropolis proposal is about to be rejected because of the following issue:\n",
      "\n",
      "Chain 2 Exception: ode_rk45: ode parameters and data is inf, but must be finite! (in 'C:/Users/Jiheo/AppData/Local/Temp/RtmpUxru5K/model-ab45e82500e.stan', line 40, column 4 to column 74)\n",
      "\n",
      "Chain 2 If this warning occurs sporadically, such as for highly constrained variable types like covariance matrices, then the sampler is fine,\n",
      "\n",
      "Chain 2 but if this warning occurs often then your model may be either severely ill-conditioned or misspecified.\n",
      "\n",
      "Chain 2 \n",
      "\n",
      "Chain 2 Informational Message: The current Metropolis proposal is about to be rejected because of the following issue:\n",
      "\n",
      "Chain 2 Exception: ode_rk45: ode parameters and data is inf, but must be finite! (in 'C:/Users/Jiheo/AppData/Local/Temp/RtmpUxru5K/model-ab45e82500e.stan', line 40, column 4 to column 74)\n",
      "\n",
      "Chain 2 If this warning occurs sporadically, such as for highly constrained variable types like covariance matrices, then the sampler is fine,\n",
      "\n",
      "Chain 2 but if this warning occurs often then your model may be either severely ill-conditioned or misspecified.\n",
      "\n",
      "Chain 2 \n",
      "\n",
      "Chain 2 Informational Message: The current Metropolis proposal is about to be rejected because of the following issue:\n",
      "\n",
      "Chain 2 Exception: neg_binomial_2_lpmf: Location parameter[1] is nan, but must be positive finite! (in 'C:/Users/Jiheo/AppData/Local/Temp/RtmpUxru5K/model-ab45e82500e.stan', line 51, column 4 to column 41)\n",
      "\n",
      "Chain 2 If this warning occurs sporadically, such as for highly constrained variable types like covariance matrices, then the sampler is fine,\n",
      "\n",
      "Chain 2 but if this warning occurs often then your model may be either severely ill-conditioned or misspecified.\n",
      "\n",
      "Chain 2 \n",
      "\n",
      "Chain 2 Informational Message: The current Metropolis proposal is about to be rejected because of the following issue:\n",
      "\n",
      "Chain 2 Exception: neg_binomial_2_lpmf: Location parameter[1] is nan, but must be positive finite! (in 'C:/Users/Jiheo/AppData/Local/Temp/RtmpUxru5K/model-ab45e82500e.stan', line 51, column 4 to column 41)\n",
      "\n",
      "Chain 2 If this warning occurs sporadically, such as for highly constrained variable types like covariance matrices, then the sampler is fine,\n",
      "\n",
      "Chain 2 but if this warning occurs often then your model may be either severely ill-conditioned or misspecified.\n",
      "\n",
      "Chain 2 \n",
      "\n",
      "Chain 3 Informational Message: The current Metropolis proposal is about to be rejected because of the following issue:\n",
      "\n",
      "Chain 3 Exception: ode_rk45: ode parameters and data is inf, but must be finite! (in 'C:/Users/Jiheo/AppData/Local/Temp/RtmpUxru5K/model-ab45e82500e.stan', line 40, column 4 to column 74)\n",
      "\n",
      "Chain 3 If this warning occurs sporadically, such as for highly constrained variable types like covariance matrices, then the sampler is fine,\n",
      "\n",
      "Chain 3 but if this warning occurs often then your model may be either severely ill-conditioned or misspecified.\n",
      "\n",
      "Chain 3 \n",
      "\n",
      "Chain 3 Informational Message: The current Metropolis proposal is about to be rejected because of the following issue:\n",
      "\n",
      "Chain 3 Exception: ode_rk45: ode parameters and data is inf, but must be finite! (in 'C:/Users/Jiheo/AppData/Local/Temp/RtmpUxru5K/model-ab45e82500e.stan', line 40, column 4 to column 74)\n",
      "\n",
      "Chain 3 If this warning occurs sporadically, such as for highly constrained variable types like covariance matrices, then the sampler is fine,\n",
      "\n",
      "Chain 3 but if this warning occurs often then your model may be either severely ill-conditioned or misspecified.\n",
      "\n",
      "Chain 3 \n",
      "\n",
      "Chain 3 Informational Message: The current Metropolis proposal is about to be rejected because of the following issue:\n",
      "\n",
      "Chain 3 Exception: ode_rk45: ode parameters and data is inf, but must be finite! (in 'C:/Users/Jiheo/AppData/Local/Temp/RtmpUxru5K/model-ab45e82500e.stan', line 40, column 4 to column 74)\n",
      "\n",
      "Chain 3 If this warning occurs sporadically, such as for highly constrained variable types like covariance matrices, then the sampler is fine,\n",
      "\n",
      "Chain 3 but if this warning occurs often then your model may be either severely ill-conditioned or misspecified.\n",
      "\n",
      "Chain 3 \n",
      "\n",
      "Chain 3 Informational Message: The current Metropolis proposal is about to be rejected because of the following issue:\n",
      "\n",
      "Chain 3 Exception: neg_binomial_2_lpmf: Location parameter[1] is nan, but must be positive finite! (in 'C:/Users/Jiheo/AppData/Local/Temp/RtmpUxru5K/model-ab45e82500e.stan', line 51, column 4 to column 41)\n",
      "\n",
      "Chain 3 If this warning occurs sporadically, such as for highly constrained variable types like covariance matrices, then the sampler is fine,\n",
      "\n",
      "Chain 3 but if this warning occurs often then your model may be either severely ill-conditioned or misspecified.\n",
      "\n",
      "Chain 3 \n",
      "\n",
      "Chain 3 Informational Message: The current Metropolis proposal is about to be rejected because of the following issue:\n",
      "\n",
      "Chain 3 Exception: neg_binomial_2_lpmf: Location parameter[1] is nan, but must be positive finite! (in 'C:/Users/Jiheo/AppData/Local/Temp/RtmpUxru5K/model-ab45e82500e.stan', line 51, column 4 to column 41)\n",
      "\n",
      "Chain 3 If this warning occurs sporadically, such as for highly constrained variable types like covariance matrices, then the sampler is fine,\n",
      "\n",
      "Chain 3 but if this warning occurs often then your model may be either severely ill-conditioned or misspecified.\n",
      "\n",
      "Chain 3 \n",
      "\n",
      "Chain 4 Informational Message: The current Metropolis proposal is about to be rejected because of the following issue:\n",
      "\n",
      "Chain 4 Exception: neg_binomial_2_lpmf: Precision parameter is 0, but must be positive finite! (in 'C:/Users/Jiheo/AppData/Local/Temp/RtmpUxru5K/model-ab45e82500e.stan', line 51, column 4 to column 41)\n",
      "\n",
      "Chain 4 If this warning occurs sporadically, such as for highly constrained variable types like covariance matrices, then the sampler is fine,\n",
      "\n",
      "Chain 4 but if this warning occurs often then your model may be either severely ill-conditioned or misspecified.\n",
      "\n",
      "Chain 4 \n",
      "\n",
      "Chain 1 Informational Message: The current Metropolis proposal is about to be rejected because of the following issue:\n",
      "\n",
      "Chain 1 Exception: neg_binomial_2_lpmf: Location parameter[12] is -3.01853e-08, but must be positive finite! (in 'C:/Users/Jiheo/AppData/Local/Temp/RtmpUxru5K/model-ab45e82500e.stan', line 51, column 4 to column 41)\n",
      "\n",
      "Chain 1 If this warning occurs sporadically, such as for highly constrained variable types like covariance matrices, then the sampler is fine,\n",
      "\n",
      "Chain 1 but if this warning occurs often then your model may be either severely ill-conditioned or misspecified.\n",
      "\n",
      "Chain 1 \n",
      "\n",
      "Chain 1 Informational Message: The current Metropolis proposal is about to be rejected because of the following issue:\n",
      "\n",
      "Chain 1 Exception: neg_binomial_2_lpmf: Location parameter[10] is -4.94533e-08, but must be positive finite! (in 'C:/Users/Jiheo/AppData/Local/Temp/RtmpUxru5K/model-ab45e82500e.stan', line 51, column 4 to column 41)\n",
      "\n",
      "Chain 1 If this warning occurs sporadically, such as for highly constrained variable types like covariance matrices, then the sampler is fine,\n",
      "\n",
      "Chain 1 but if this warning occurs often then your model may be either severely ill-conditioned or misspecified.\n",
      "\n",
      "Chain 1 \n",
      "\n",
      "Chain 3 Informational Message: The current Metropolis proposal is about to be rejected because of the following issue:\n",
      "\n",
      "Chain 3 Exception: ode_rk45: ode parameters and data is inf, but must be finite! (in 'C:/Users/Jiheo/AppData/Local/Temp/RtmpUxru5K/model-ab45e82500e.stan', line 40, column 4 to column 74)\n",
      "\n",
      "Chain 3 If this warning occurs sporadically, such as for highly constrained variable types like covariance matrices, then the sampler is fine,\n",
      "\n",
      "Chain 3 but if this warning occurs often then your model may be either severely ill-conditioned or misspecified.\n",
      "\n",
      "Chain 3 \n",
      "\n",
      "Chain 3 Informational Message: The current Metropolis proposal is about to be rejected because of the following issue:\n",
      "\n",
      "Chain 3 Exception: neg_binomial_2_lpmf: Location parameter[1] is nan, but must be positive finite! (in 'C:/Users/Jiheo/AppData/Local/Temp/RtmpUxru5K/model-ab45e82500e.stan', line 51, column 4 to column 41)\n",
      "\n",
      "Chain 3 If this warning occurs sporadically, such as for highly constrained variable types like covariance matrices, then the sampler is fine,\n",
      "\n",
      "Chain 3 but if this warning occurs often then your model may be either severely ill-conditioned or misspecified.\n",
      "\n",
      "Chain 3 \n",
      "\n",
      "Chain 3 Informational Message: The current Metropolis proposal is about to be rejected because of the following issue:\n",
      "\n",
      "Chain 3 Exception: neg_binomial_2_lpmf: Location parameter[3] is -2.47352e-08, but must be positive finite! (in 'C:/Users/Jiheo/AppData/Local/Temp/RtmpUxru5K/model-ab45e82500e.stan', line 51, column 4 to column 41)\n",
      "\n",
      "Chain 3 If this warning occurs sporadically, such as for highly constrained variable types like covariance matrices, then the sampler is fine,\n",
      "\n",
      "Chain 3 but if this warning occurs often then your model may be either severely ill-conditioned or misspecified.\n",
      "\n",
      "Chain 3 \n",
      "\n",
      "Chain 2 Informational Message: The current Metropolis proposal is about to be rejected because of the following issue:\n",
      "\n",
      "Chain 2 Exception: ode_rk45:  Failed to integrate to next output time (1) in less than max_num_steps steps (in 'C:/Users/Jiheo/AppData/Local/Temp/RtmpUxru5K/model-ab45e82500e.stan', line 40, column 4 to column 74)\n",
      "\n",
      "Chain 2 If this warning occurs sporadically, such as for highly constrained variable types like covariance matrices, then the sampler is fine,\n",
      "\n",
      "Chain 2 but if this warning occurs often then your model may be either severely ill-conditioned or misspecified.\n",
      "\n",
      "Chain 2 \n",
      "\n",
      "Chain 2 Informational Message: The current Metropolis proposal is about to be rejected because of the following issue:\n",
      "\n",
      "Chain 2 Exception: ode_rk45: ode parameters and data is inf, but must be finite! (in 'C:/Users/Jiheo/AppData/Local/Temp/RtmpUxru5K/model-ab45e82500e.stan', line 40, column 4 to column 74)\n",
      "\n",
      "Chain 2 If this warning occurs sporadically, such as for highly constrained variable types like covariance matrices, then the sampler is fine,\n",
      "\n",
      "Chain 2 but if this warning occurs often then your model may be either severely ill-conditioned or misspecified.\n",
      "\n",
      "Chain 2 \n",
      "\n",
      "Chain 2 Informational Message: The current Metropolis proposal is about to be rejected because of the following issue:\n",
      "\n",
      "Chain 2 Exception: ode_rk45: ode parameters and data is inf, but must be finite! (in 'C:/Users/Jiheo/AppData/Local/Temp/RtmpUxru5K/model-ab45e82500e.stan', line 40, column 4 to column 74)\n",
      "\n",
      "Chain 2 If this warning occurs sporadically, such as for highly constrained variable types like covariance matrices, then the sampler is fine,\n",
      "\n",
      "Chain 2 but if this warning occurs often then your model may be either severely ill-conditioned or misspecified.\n",
      "\n",
      "Chain 2 \n",
      "\n",
      "Chain 2 Informational Message: The current Metropolis proposal is about to be rejected because of the following issue:\n",
      "\n",
      "Chain 2 Exception: neg_binomial_2_lpmf: Location parameter[1] is -6.3065e-09, but must be positive finite! (in 'C:/Users/Jiheo/AppData/Local/Temp/RtmpUxru5K/model-ab45e82500e.stan', line 51, column 4 to column 41)\n",
      "\n",
      "Chain 2 If this warning occurs sporadically, such as for highly constrained variable types like covariance matrices, then the sampler is fine,\n",
      "\n",
      "Chain 2 but if this warning occurs often then your model may be either severely ill-conditioned or misspecified.\n",
      "\n",
      "Chain 2 \n",
      "\n"
     ]
    }
   ],
   "source": [
    "# To compile & fit Stan model\n",
    "sir_v1_fit <- fit_model(\"sir_v1\", sir_data)"
   ]
  },
  {
   "cell_type": "code",
   "execution_count": 8,
   "id": "7640ce25",
   "metadata": {
    "vscode": {
     "languageId": "r"
    }
   },
   "outputs": [
    {
     "name": "stdout",
     "output_type": "stream",
     "text": [
      "\u001b[90m# A tibble: 5 × 10\u001b[39m\n",
      "  variable       mean median     sd    mad    q5    q95  rhat ess_bulk ess_tail\n",
      "  \u001b[3m\u001b[90m<chr>\u001b[39m\u001b[23m         \u001b[3m\u001b[90m<dbl>\u001b[39m\u001b[23m  \u001b[3m\u001b[90m<dbl>\u001b[39m\u001b[23m  \u001b[3m\u001b[90m<dbl>\u001b[39m\u001b[23m  \u001b[3m\u001b[90m<dbl>\u001b[39m\u001b[23m \u001b[3m\u001b[90m<dbl>\u001b[39m\u001b[23m  \u001b[3m\u001b[90m<dbl>\u001b[39m\u001b[23m \u001b[3m\u001b[90m<dbl>\u001b[39m\u001b[23m    \u001b[3m\u001b[90m<dbl>\u001b[39m\u001b[23m    \u001b[3m\u001b[90m<dbl>\u001b[39m\u001b[23m\n",
      "\u001b[90m1\u001b[39m beta          1.74   1.73  0.052\u001b[4m7\u001b[24m 0.047\u001b[4m5\u001b[24m 1.65   1.83   1.00    \u001b[4m2\u001b[24m657.    \u001b[4m2\u001b[24m216.\n",
      "\u001b[90m2\u001b[39m gamma         0.542  0.540 0.047\u001b[4m4\u001b[24m 0.044\u001b[4m6\u001b[24m 0.472  0.624  1.00    \u001b[4m2\u001b[24m328.    \u001b[4m1\u001b[24m875.\n",
      "\u001b[90m3\u001b[39m phi           9.46   8.31  5.27   4.16   3.44  19.2    1.00    \u001b[4m2\u001b[24m241.    \u001b[4m2\u001b[24m240.\n",
      "\u001b[90m4\u001b[39m R0            3.22   3.21  0.285  0.263  2.80   3.69   1.00    \u001b[4m2\u001b[24m509.    \u001b[4m2\u001b[24m093.\n",
      "\u001b[90m5\u001b[39m recovery_time 1.86   1.85  0.162  0.153  1.60   2.12   1.00    \u001b[4m2\u001b[24m328.    \u001b[4m1\u001b[24m875.\n"
     ]
    }
   ],
   "source": [
    "# To define parameters of interest\n",
    "parm <- c(\"beta\", \"gamma\", \"phi\", \"R0\", \"recovery_time\")\n",
    "\n",
    "# To inspect summary of model fit\n",
    "sir_v1_summ <- sir_v1_fit$summary(parm)\n",
    "print(sir_v1_summ)"
   ]
  },
  {
   "cell_type": "code",
   "execution_count": 9,
   "id": "e2854683",
   "metadata": {
    "vscode": {
     "languageId": "r"
    }
   },
   "outputs": [
    {
     "name": "stdout",
     "output_type": "stream",
     "text": [
      "   chain iteration  draw variable   value\n",
      "   <int>     <int> <int>   <char>   <num>\n",
      "1:     1         1     1     beta 1.73880\n",
      "2:     1         2     2     beta 1.74547\n",
      "3:     1         3     3     beta 1.65026\n",
      "4:     1         4     4     beta 1.70043\n",
      "5:     1         5     5     beta 1.75430\n",
      "6:     1         6     6     beta 1.66330\n"
     ]
    }
   ],
   "source": [
    "# To retrieve posterior samples\n",
    "sir_v1_post <- data.table(\n",
    "    gather_draws(sir_v1_fit, beta, gamma, phi)\n",
    ") |> remove_dots()\n",
    "\n",
    "# To preview datatable\n",
    "print(head(sir_v1_post))"
   ]
  },
  {
   "cell_type": "code",
   "execution_count": 10,
   "id": "5bfa5743",
   "metadata": {
    "vscode": {
     "languageId": "r"
    }
   },
   "outputs": [
    {
     "data": {
      "image/png": "[encoded data removed]",
      "text/plain": [
       "plot without title"
      ]
     },
     "metadata": {
      "image/png": {
       "height": 420,
       "width": 420
      }
     },
     "output_type": "display_data"
    }
   ],
   "source": [
    "# To plot marginal posterior distributions\n",
    "plot_post(sir_v1_post)"
   ]
  },
  {
   "cell_type": "code",
   "execution_count": 11,
   "id": "5b9142df",
   "metadata": {
    "vscode": {
     "languageId": "r"
    }
   },
   "outputs": [
    {
     "data": {
      "image/png": "[encoded data removed]",
      "text/plain": [
       "plot without title"
      ]
     },
     "metadata": {
      "image/png": {
       "height": 420,
       "width": 420
      }
     },
     "output_type": "display_data"
    }
   ],
   "source": [
    "# To check if predicted cases are consistent with observed cases\n",
    "sir_v1_pred_summ <- data.table(sir_v1_fit$summary(variables = \"pred_cases\")) |>\n",
    "  subset(select = c(\"mean\", \"q5\", \"q95\")) |> cbind(t, cases)\n",
    "ggplot(data = sir_v1_pred_summ, mapping = aes(x = t)) +\n",
    " geom_ribbon(aes(ymin = q5, ymax = q95), fill = \"darkorange\", alpha = 0.2) +\n",
    " geom_line(mapping = aes(x = t, y = mean), color = \"darkorange\", linewidth = 1) +\n",
    " geom_point(mapping = aes(x = t, y = cases), size = 1) +\n",
    " labs(x = \"Days\", y = \"No. of students in bed\") +\n",
    " theme_bw(base_size = 14)"
   ]
  },
  {
   "cell_type": "code",
   "execution_count": 12,
   "id": "17b4e262",
   "metadata": {
    "vscode": {
     "languageId": "r"
    }
   },
   "outputs": [
    {
     "data": {
      "image/png": "[encoded data removed]",
      "text/plain": [
       "plot without title"
      ]
     },
     "metadata": {
      "image/png": {
       "height": 420,
       "width": 420
      }
     },
     "output_type": "display_data"
    }
   ],
   "source": [
    "# To obtain deterministic predictions of infected students\n",
    "inf_parm <- paste0(\"y[\", 1:n_days, \",2]\")\n",
    "sir_v1_inf_summ <- data.table(sir_v1_fit$summary(variables = inf_parm)) |>\n",
    "  subset(select = c(\"mean\", \"q5\", \"q95\")) |> cbind(t)\n",
    "ggplot(data = sir_v1_inf_summ, mapping = aes(x = t)) +\n",
    "  geom_ribbon(aes(ymin = q5, ymax = q95), fill = \"darkorange\", alpha = 0.2) +\n",
    "  geom_line(mapping = aes(x = t, y = mean), color = \"darkorange\", linewidth = 1) +\n",
    "  labs(x = \"Days\", y = \"No. of infected students\") +\n",
    "  theme_bw(base_size = 14)"
   ]
  }
 ],
 "metadata": {
  "kernelspec": {
   "display_name": "R",
   "language": "R",
   "name": "ir"
  },
  "language_info": {
   "codemirror_mode": "r",
   "file_extension": ".r",
   "mimetype": "text/x-r-source",
   "name": "R",
   "pygments_lexer": "r",
   "version": "4.5.1"
  }
 },
 "nbformat": 4,
 "nbformat_minor": 5
}
